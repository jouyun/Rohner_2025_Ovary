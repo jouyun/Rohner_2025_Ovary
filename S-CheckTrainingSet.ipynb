{
 "cells": [
  {
   "cell_type": "code",
   "execution_count": 1,
   "metadata": {},
   "outputs": [],
   "source": [
    "import numpy as np\n",
    "import tifffile\n",
    "import glob\n",
    "import skimage.util as util\n",
    "import cv2\n",
    "import dask\n",
    "import pandas as pd\n",
    "import napari\n",
    "import plotly.express as px\n",
    "import skimage as ski\n",
    "import glob\n",
    "import plotly.graph_objects as go"
   ]
  },
  {
   "cell_type": "code",
   "execution_count": 2,
   "metadata": {},
   "outputs": [],
   "source": [
    "viewer = napari.Viewer()"
   ]
  },
  {
   "cell_type": "markdown",
   "metadata": {},
   "source": [
    "# Check Results in Napari"
   ]
  },
  {
   "cell_type": "code",
   "execution_count": 172,
   "metadata": {},
   "outputs": [],
   "source": [
    "viewer = napari.Viewer()"
   ]
  },
  {
   "cell_type": "code",
   "execution_count": 173,
   "metadata": {},
   "outputs": [
    {
     "data": {
      "text/plain": [
       "['new_data/train/images\\\\01_02_02.tif',\n",
       " 'new_data/train/images\\\\01_10_07.tif',\n",
       " 'new_data/train/images\\\\01_19_03.tif',\n",
       " 'new_data/train/images\\\\01_38_02.tif',\n",
       " 'new_data/train/images\\\\02_04_03.tif',\n",
       " 'new_data/train/images\\\\02_15_06.tif']"
      ]
     },
     "execution_count": 173,
     "metadata": {},
     "output_type": "execute_result"
    }
   ],
   "source": [
    "fnames = glob.glob('new_data/train/images/*.tif')\n",
    "fnames.sort()\n",
    "fnames"
   ]
  },
  {
   "cell_type": "code",
   "execution_count": 174,
   "metadata": {},
   "outputs": [
    {
     "data": {
      "text/plain": [
       "'new_data/train/images\\\\01_19_03.tif'"
      ]
     },
     "execution_count": 174,
     "metadata": {},
     "output_type": "execute_result"
    }
   ],
   "source": [
    "fname = fnames[2]\n",
    "fname"
   ]
  },
  {
   "cell_type": "code",
   "execution_count": 175,
   "metadata": {},
   "outputs": [],
   "source": [
    "img = ski.io.imread(fname)\n",
    "labels = np.loadtxt(fname.replace('images', 'labels').replace('.tif', '.txt'))"
   ]
  },
  {
   "cell_type": "code",
   "execution_count": 176,
   "metadata": {},
   "outputs": [],
   "source": [
    "height, width = img.shape[0:2]"
   ]
  },
  {
   "cell_type": "code",
   "execution_count": 177,
   "metadata": {},
   "outputs": [],
   "source": [
    "labels[:,1] = (labels[:,1] * width).astype(int)\n",
    "labels[:,2] = (labels[:,2] * height).astype(int)\n",
    "labels[:,3] = (labels[:,3] * width/2).astype(int)\n",
    "labels[:,4] = (labels[:,4] * height/2).astype(int)"
   ]
  },
  {
   "cell_type": "code",
   "execution_count": 178,
   "metadata": {},
   "outputs": [],
   "source": [
    "labels[:,1] = labels[:,1] - labels[:,3]\n",
    "labels[:,2] = labels[:,2] - labels[:,4]\n",
    "labels[:,3] = labels[:,1] + 2*labels[:,3]\n",
    "labels[:,4] = labels[:,2] + 2*labels[:,4]"
   ]
  },
  {
   "cell_type": "code",
   "execution_count": 179,
   "metadata": {},
   "outputs": [],
   "source": [
    "lst = []\n",
    "for label in labels[labels[:,0]==0]:\n",
    "    y1, x1, y2, x2 = label[1:]\n",
    "    lst.append(np.array([[x1, y1], [x2, y1], [x2, y2], [x1, y2]]))\n",
    "t0_rects = np.array(lst)\n",
    "\n",
    "lst = []\n",
    "for label in labels[labels[:,0]==1]:\n",
    "    y1, x1, y2, x2 = label[1:]\n",
    "    lst.append(np.array([[x1, y1], [x2, y1], [x2, y2], [x1, y2]]))\n",
    "t1_rects = np.array(lst)\n",
    "\n",
    "lst = []\n",
    "for label in labels[labels[:,0]==2]:\n",
    "    y1, x1, y2, x2 = label[1:]\n",
    "    lst.append(np.array([[x1, y1], [x2, y1], [x2, y2], [x1, y2]]))\n",
    "t2_rects = np.array(lst)\n",
    "\n",
    "lst = []\n",
    "for label in labels[labels[:,0]==3]:\n",
    "    y1, x1, y2, x2 = label[1:]\n",
    "    lst.append(np.array([[x1, y1], [x2, y1], [x2, y2], [x1, y2]]))\n",
    "t3_rects = np.array(lst)\n",
    "\n",
    "lst = []\n",
    "for label in labels[labels[:,0]==4]:\n",
    "    y1, x1, y2, x2 = label[1:]\n",
    "    lst.append(np.array([[x1, y1], [x2, y1], [x2, y2], [x1, y2]]))\n",
    "t4_rects = np.array(lst)"
   ]
  },
  {
   "cell_type": "code",
   "execution_count": 184,
   "metadata": {},
   "outputs": [],
   "source": [
    "viewer.add_image(img, channel_axis=-1, colormap=['red', 'green', 'blue'])\n",
    "if len(t0_rects)>0:\n",
    "    viewer.add_shapes(t0_rects, shape_type='rectangle', edge_color='red', face_color='red', opacity=0.6, name='T0')\n",
    "if len(t1_rects)>0:\n",
    "    viewer.add_shapes(t1_rects, shape_type='rectangle', edge_color='green', face_color='green', opacity=0.6, name='T1')\n",
    "if len(t2_rects)>0:\n",
    "    viewer.add_shapes(t2_rects, shape_type='rectangle', edge_color='blue', face_color='blue', opacity=0.6, name='T2')\n",
    "if len(t3_rects)>0:\n",
    "    viewer.add_shapes(t3_rects, shape_type='rectangle', edge_color='yellow', face_color='yellow', opacity=0.6, name='T3')\n",
    "if len(t4_rects)>0:\n",
    "    viewer.add_shapes(t4_rects, shape_type='rectangle', edge_color='purple', face_color='purple', opacity=0.6, name='T4')"
   ]
  },
  {
   "cell_type": "code",
   "execution_count": 181,
   "metadata": {},
   "outputs": [
    {
     "data": {
      "text/plain": [
       "'new_data/train/images\\\\01_19_03.tif'"
      ]
     },
     "execution_count": 181,
     "metadata": {},
     "output_type": "execute_result"
    }
   ],
   "source": [
    "fname"
   ]
  },
  {
   "cell_type": "markdown",
   "metadata": {},
   "source": [
    "# Export Manual"
   ]
  },
  {
   "cell_type": "code",
   "execution_count": 38,
   "metadata": {},
   "outputs": [],
   "source": [
    "layer_names = [layer.name for layer in viewer.layers[1:]]"
   ]
  },
  {
   "cell_type": "code",
   "execution_count": 39,
   "metadata": {},
   "outputs": [
    {
     "data": {
      "text/plain": [
       "['T0', 'T1', 'T3']"
      ]
     },
     "execution_count": 39,
     "metadata": {},
     "output_type": "execute_result"
    }
   ],
   "source": [
    "layer_names"
   ]
  },
  {
   "cell_type": "code",
   "execution_count": 40,
   "metadata": {},
   "outputs": [],
   "source": [
    "for layer in layer_names:\n",
    "    rects = viewer.layers[layer].data\n",
    "    np.save(fname.replace('.tif', f'_{layer}.npy'), rects)"
   ]
  },
  {
   "cell_type": "code",
   "execution_count": 152,
   "metadata": {},
   "outputs": [
    {
     "data": {
      "text/plain": [
       "'new_data/train/images\\\\01_02_02.tif'"
      ]
     },
     "execution_count": 152,
     "metadata": {},
     "output_type": "execute_result"
    }
   ],
   "source": [
    "fname"
   ]
  },
  {
   "cell_type": "code",
   "execution_count": null,
   "metadata": {},
   "outputs": [],
   "source": []
  }
 ],
 "metadata": {
  "kernelspec": {
   "display_name": "stream",
   "language": "python",
   "name": "python3"
  },
  "language_info": {
   "codemirror_mode": {
    "name": "ipython",
    "version": 3
   },
   "file_extension": ".py",
   "mimetype": "text/x-python",
   "name": "python",
   "nbconvert_exporter": "python",
   "pygments_lexer": "ipython3",
   "version": "3.10.14"
  }
 },
 "nbformat": 4,
 "nbformat_minor": 2
}
