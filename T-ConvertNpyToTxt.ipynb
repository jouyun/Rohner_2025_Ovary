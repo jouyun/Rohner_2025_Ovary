{
 "cells": [
  {
   "cell_type": "code",
   "execution_count": 2,
   "metadata": {},
   "outputs": [],
   "source": [
    "import napari\n",
    "viewer = napari.Viewer()"
   ]
  },
  {
   "cell_type": "code",
   "execution_count": 1,
   "metadata": {},
   "outputs": [],
   "source": [
    "import numpy as np\n",
    "import tifffile\n",
    "import glob\n",
    "import skimage.util as util\n",
    "import cv2\n",
    "import dask\n",
    "import pandas as pd\n",
    "\n",
    "import plotly.express as px\n",
    "import skimage as ski\n",
    "import glob\n",
    "import plotly.graph_objects as go"
   ]
  },
  {
   "cell_type": "code",
   "execution_count": 2,
   "metadata": {},
   "outputs": [],
   "source": [
    "fnames = glob.glob('new_data/train/images/*.tif')"
   ]
  },
  {
   "cell_type": "code",
   "execution_count": 3,
   "metadata": {},
   "outputs": [
    {
     "data": {
      "text/plain": [
       "['new_data/train/images\\\\01_02_02.tif',\n",
       " 'new_data/train/images\\\\01_10_07.tif',\n",
       " 'new_data/train/images\\\\01_19_03.tif',\n",
       " 'new_data/train/images\\\\01_38_02.tif',\n",
       " 'new_data/train/images\\\\01_45_03.tif',\n",
       " 'new_data/train/images\\\\02_04_03.tif',\n",
       " 'new_data/train/images\\\\02_15_06.tif']"
      ]
     },
     "execution_count": 3,
     "metadata": {},
     "output_type": "execute_result"
    }
   ],
   "source": [
    "fnames"
   ]
  },
  {
   "cell_type": "markdown",
   "metadata": {},
   "source": [
    "# Convert .npy to .txt"
   ]
  },
  {
   "cell_type": "code",
   "execution_count": 4,
   "metadata": {},
   "outputs": [],
   "source": [
    "# Loop over all files\n",
    "for fname in fnames:\n",
    "    output_img_path = 'new_data/train/images/' + fname.split('\\\\')[-1]\n",
    "    output_labels_path = 'new_data/train/labels/' + fname.split('\\\\')[-1].replace('.tif', '.txt')\n",
    "\n",
    "    img = ski.io.imread(fname.replace('\\\\','/'))\n",
    "    height, width = img.shape[0:2]\n",
    "\n",
    "    with open(output_labels_path, 'w') as f:\n",
    "        rect_fnames = glob.glob(fname.replace('.tif', '*.npy'))\n",
    "        for rect_fname in rect_fnames:\n",
    "            assigned_class = rect_fname.split('\\\\')[-1].split('T')[1][0]\n",
    "            rects = np.load(rect_fname, allow_pickle=True)\n",
    "            \n",
    "            for rect in rects:\n",
    "                min_row, min_col = np.min(rect, axis=0)\n",
    "                max_row, max_col = np.max(rect, axis=0)\n",
    "\n",
    "                # # Calculate YOLO format values\n",
    "                x_center = (min_col + max_col) / (2 * width)\n",
    "                y_center = (min_row + max_row) / (2 * height)\n",
    "                box_width = (max_col - min_col) / width\n",
    "                box_height = (max_row - min_row) / height\n",
    "                \n",
    "                # Write to file (class is always 0 as mentioned)\n",
    "                f.write(f\"{assigned_class} {x_center} {y_center} {box_width} {box_height}\\n\")\n",
    "        cv2.imwrite(output_img_path, cv2.cvtColor(img, cv2.COLOR_RGB2BGR))\n",
    "        f.close()"
   ]
  },
  {
   "cell_type": "code",
   "execution_count": null,
   "metadata": {},
   "outputs": [],
   "source": []
  },
  {
   "cell_type": "code",
   "execution_count": null,
   "metadata": {},
   "outputs": [],
   "source": []
  }
 ],
 "metadata": {
  "kernelspec": {
   "display_name": "stream",
   "language": "python",
   "name": "python3"
  },
  "language_info": {
   "codemirror_mode": {
    "name": "ipython",
    "version": 3
   },
   "file_extension": ".py",
   "mimetype": "text/x-python",
   "name": "python",
   "nbconvert_exporter": "python",
   "pygments_lexer": "ipython3",
   "version": "3.10.14"
  }
 },
 "nbformat": 4,
 "nbformat_minor": 2
}
