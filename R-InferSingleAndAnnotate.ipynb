{
 "cells": [
  {
   "cell_type": "code",
   "execution_count": 1,
   "metadata": {},
   "outputs": [],
   "source": [
    "import os\n",
    "import numpy as np\n",
    "from skimage import io, measure\n",
    "from skimage.measure import regionprops\n",
    "import glob\n",
    "from ultralytics import YOLO\n",
    "\n",
    "import torch\n",
    "import napari\n",
    "import skimage as ski\n",
    "import pandas as pd\n",
    "import plotly.express as px"
   ]
  },
  {
   "cell_type": "code",
   "execution_count": 2,
   "metadata": {},
   "outputs": [],
   "source": [
    "viewer = napari.Viewer()"
   ]
  },
  {
   "cell_type": "markdown",
   "metadata": {},
   "source": [
    "# Test Model"
   ]
  },
  {
   "cell_type": "code",
   "execution_count": 3,
   "metadata": {},
   "outputs": [
    {
     "data": {
      "text/plain": [
       "['S:/micro/nro/fx2482/lem/20240820_OSS_IMARE-130719\\\\01_01_02.tif',\n",
       " 'S:/micro/nro/fx2482/lem/20240820_OSS_IMARE-130719\\\\01_01_03.tif',\n",
       " 'S:/micro/nro/fx2482/lem/20240820_OSS_IMARE-130719\\\\01_02_02.tif',\n",
       " 'S:/micro/nro/fx2482/lem/20240820_OSS_IMARE-130719\\\\01_02_03.tif',\n",
       " 'S:/micro/nro/fx2482/lem/20240820_OSS_IMARE-130719\\\\01_03_02.tif',\n",
       " 'S:/micro/nro/fx2482/lem/20240820_OSS_IMARE-130719\\\\01_03_03.tif',\n",
       " 'S:/micro/nro/fx2482/lem/20240820_OSS_IMARE-130719\\\\01_04_02.tif',\n",
       " 'S:/micro/nro/fx2482/lem/20240820_OSS_IMARE-130719\\\\01_04_03.tif',\n",
       " 'S:/micro/nro/fx2482/lem/20240820_OSS_IMARE-130719\\\\01_05_02.tif',\n",
       " 'S:/micro/nro/fx2482/lem/20240820_OSS_IMARE-130719\\\\01_05_03.tif',\n",
       " 'S:/micro/nro/fx2482/lem/20240820_OSS_IMARE-130719\\\\01_06_02.tif',\n",
       " 'S:/micro/nro/fx2482/lem/20240820_OSS_IMARE-130719\\\\01_06_03.tif',\n",
       " 'S:/micro/nro/fx2482/lem/20240820_OSS_IMARE-130719\\\\01_07_02.tif',\n",
       " 'S:/micro/nro/fx2482/lem/20240820_OSS_IMARE-130719\\\\01_07_03.tif',\n",
       " 'S:/micro/nro/fx2482/lem/20240820_OSS_IMARE-130719\\\\01_08_02.tif',\n",
       " 'S:/micro/nro/fx2482/lem/20240820_OSS_IMARE-130719\\\\01_08_03.tif',\n",
       " 'S:/micro/nro/fx2482/lem/20240820_OSS_IMARE-130719\\\\01_09_02.tif',\n",
       " 'S:/micro/nro/fx2482/lem/20240820_OSS_IMARE-130719\\\\01_09_03.tif',\n",
       " 'S:/micro/nro/fx2482/lem/20240820_OSS_IMARE-130719\\\\01_10_02.tif',\n",
       " 'S:/micro/nro/fx2482/lem/20240820_OSS_IMARE-130719\\\\01_10_03.tif',\n",
       " 'S:/micro/nro/fx2482/lem/20240820_OSS_IMARE-130719\\\\01_11_02.tif',\n",
       " 'S:/micro/nro/fx2482/lem/20240820_OSS_IMARE-130719\\\\01_11_03.tif',\n",
       " 'S:/micro/nro/fx2482/lem/20240820_OSS_IMARE-130719\\\\01_12_02.tif',\n",
       " 'S:/micro/nro/fx2482/lem/20240820_OSS_IMARE-130719\\\\01_12_03.tif',\n",
       " 'S:/micro/nro/fx2482/lem/20240820_OSS_IMARE-130719\\\\01_13_02.tif',\n",
       " 'S:/micro/nro/fx2482/lem/20240820_OSS_IMARE-130719\\\\01_13_03.tif',\n",
       " 'S:/micro/nro/fx2482/lem/20240820_OSS_IMARE-130719\\\\01_14_02.tif',\n",
       " 'S:/micro/nro/fx2482/lem/20240820_OSS_IMARE-130719\\\\01_14_03.tif',\n",
       " 'S:/micro/nro/fx2482/lem/20240820_OSS_IMARE-130719\\\\01_15_02.tif',\n",
       " 'S:/micro/nro/fx2482/lem/20240820_OSS_IMARE-130719\\\\01_15_03.tif',\n",
       " 'S:/micro/nro/fx2482/lem/20240820_OSS_IMARE-130719\\\\01_16_02.tif',\n",
       " 'S:/micro/nro/fx2482/lem/20240820_OSS_IMARE-130719\\\\01_16_03.tif',\n",
       " 'S:/micro/nro/fx2482/lem/20240820_OSS_IMARE-130719\\\\01_17_02.tif',\n",
       " 'S:/micro/nro/fx2482/lem/20240820_OSS_IMARE-130719\\\\01_17_03.tif',\n",
       " 'S:/micro/nro/fx2482/lem/20240820_OSS_IMARE-130719\\\\01_18_02.tif',\n",
       " 'S:/micro/nro/fx2482/lem/20240820_OSS_IMARE-130719\\\\01_18_03.tif',\n",
       " 'S:/micro/nro/fx2482/lem/20240820_OSS_IMARE-130719\\\\01_19_02.tif',\n",
       " 'S:/micro/nro/fx2482/lem/20240820_OSS_IMARE-130719\\\\01_19_03.tif',\n",
       " 'S:/micro/nro/fx2482/lem/20240820_OSS_IMARE-130719\\\\01_20_02.tif',\n",
       " 'S:/micro/nro/fx2482/lem/20240820_OSS_IMARE-130719\\\\01_20_03.tif',\n",
       " 'S:/micro/nro/fx2482/lem/20240820_OSS_IMARE-130719\\\\01_21_02.tif',\n",
       " 'S:/micro/nro/fx2482/lem/20240820_OSS_IMARE-130719\\\\01_21_03.tif',\n",
       " 'S:/micro/nro/fx2482/lem/20240820_OSS_IMARE-130719\\\\01_22_02.tif',\n",
       " 'S:/micro/nro/fx2482/lem/20240820_OSS_IMARE-130719\\\\01_22_03.tif',\n",
       " 'S:/micro/nro/fx2482/lem/20240820_OSS_IMARE-130719\\\\01_23_02.tif',\n",
       " 'S:/micro/nro/fx2482/lem/20240820_OSS_IMARE-130719\\\\01_23_03.tif',\n",
       " 'S:/micro/nro/fx2482/lem/20240820_OSS_IMARE-130719\\\\01_24_02.tif',\n",
       " 'S:/micro/nro/fx2482/lem/20240820_OSS_IMARE-130719\\\\01_24_03.tif',\n",
       " 'S:/micro/nro/fx2482/lem/20240820_OSS_IMARE-130719\\\\01_25_02.tif',\n",
       " 'S:/micro/nro/fx2482/lem/20240820_OSS_IMARE-130719\\\\01_25_03.tif',\n",
       " 'S:/micro/nro/fx2482/lem/20240820_OSS_IMARE-130719\\\\01_26_02.tif',\n",
       " 'S:/micro/nro/fx2482/lem/20240820_OSS_IMARE-130719\\\\01_26_03.tif',\n",
       " 'S:/micro/nro/fx2482/lem/20240820_OSS_IMARE-130719\\\\01_27_02.tif',\n",
       " 'S:/micro/nro/fx2482/lem/20240820_OSS_IMARE-130719\\\\01_27_03.tif',\n",
       " 'S:/micro/nro/fx2482/lem/20240820_OSS_IMARE-130719\\\\01_28_02.tif',\n",
       " 'S:/micro/nro/fx2482/lem/20240820_OSS_IMARE-130719\\\\01_28_03.tif',\n",
       " 'S:/micro/nro/fx2482/lem/20240820_OSS_IMARE-130719\\\\01_29_02.tif',\n",
       " 'S:/micro/nro/fx2482/lem/20240820_OSS_IMARE-130719\\\\01_29_03.tif',\n",
       " 'S:/micro/nro/fx2482/lem/20240820_OSS_IMARE-130719\\\\01_30_02.tif',\n",
       " 'S:/micro/nro/fx2482/lem/20240820_OSS_IMARE-130719\\\\01_30_03.tif',\n",
       " 'S:/micro/nro/fx2482/lem/20240820_OSS_IMARE-130719\\\\01_31_02.tif',\n",
       " 'S:/micro/nro/fx2482/lem/20240820_OSS_IMARE-130719\\\\01_31_03.tif',\n",
       " 'S:/micro/nro/fx2482/lem/20240820_OSS_IMARE-130719\\\\01_31_04.tif',\n",
       " 'S:/micro/nro/fx2482/lem/20240820_OSS_IMARE-130719\\\\01_31_05.tif',\n",
       " 'S:/micro/nro/fx2482/lem/20240820_OSS_IMARE-130719\\\\01_32_02.tif',\n",
       " 'S:/micro/nro/fx2482/lem/20240820_OSS_IMARE-130719\\\\01_32_03.tif',\n",
       " 'S:/micro/nro/fx2482/lem/20240820_OSS_IMARE-130719\\\\01_32_04.tif',\n",
       " 'S:/micro/nro/fx2482/lem/20240820_OSS_IMARE-130719\\\\01_32_05.tif',\n",
       " 'S:/micro/nro/fx2482/lem/20240820_OSS_IMARE-130719\\\\01_33_02.tif',\n",
       " 'S:/micro/nro/fx2482/lem/20240820_OSS_IMARE-130719\\\\01_33_03.tif',\n",
       " 'S:/micro/nro/fx2482/lem/20240820_OSS_IMARE-130719\\\\01_33_04.tif',\n",
       " 'S:/micro/nro/fx2482/lem/20240820_OSS_IMARE-130719\\\\01_33_05.tif',\n",
       " 'S:/micro/nro/fx2482/lem/20240820_OSS_IMARE-130719\\\\01_34_02.tif',\n",
       " 'S:/micro/nro/fx2482/lem/20240820_OSS_IMARE-130719\\\\01_34_03.tif',\n",
       " 'S:/micro/nro/fx2482/lem/20240820_OSS_IMARE-130719\\\\01_34_04.tif',\n",
       " 'S:/micro/nro/fx2482/lem/20240820_OSS_IMARE-130719\\\\01_34_05.tif',\n",
       " 'S:/micro/nro/fx2482/lem/20240820_OSS_IMARE-130719\\\\01_35_02.tif',\n",
       " 'S:/micro/nro/fx2482/lem/20240820_OSS_IMARE-130719\\\\01_35_03.tif',\n",
       " 'S:/micro/nro/fx2482/lem/20240820_OSS_IMARE-130719\\\\01_35_04.tif',\n",
       " 'S:/micro/nro/fx2482/lem/20240820_OSS_IMARE-130719\\\\01_35_05.tif',\n",
       " 'S:/micro/nro/fx2482/lem/20240820_OSS_IMARE-130719\\\\01_36_02.tif',\n",
       " 'S:/micro/nro/fx2482/lem/20240820_OSS_IMARE-130719\\\\01_36_03.tif',\n",
       " 'S:/micro/nro/fx2482/lem/20240820_OSS_IMARE-130719\\\\01_36_04.tif',\n",
       " 'S:/micro/nro/fx2482/lem/20240820_OSS_IMARE-130719\\\\01_36_05.tif',\n",
       " 'S:/micro/nro/fx2482/lem/20240820_OSS_IMARE-130719\\\\01_37_02.tif',\n",
       " 'S:/micro/nro/fx2482/lem/20240820_OSS_IMARE-130719\\\\01_37_03.tif',\n",
       " 'S:/micro/nro/fx2482/lem/20240820_OSS_IMARE-130719\\\\01_37_04.tif',\n",
       " 'S:/micro/nro/fx2482/lem/20240820_OSS_IMARE-130719\\\\01_37_05.tif',\n",
       " 'S:/micro/nro/fx2482/lem/20240820_OSS_IMARE-130719\\\\01_38_02.tif',\n",
       " 'S:/micro/nro/fx2482/lem/20240820_OSS_IMARE-130719\\\\01_38_03.tif',\n",
       " 'S:/micro/nro/fx2482/lem/20240820_OSS_IMARE-130719\\\\01_38_04.tif',\n",
       " 'S:/micro/nro/fx2482/lem/20240820_OSS_IMARE-130719\\\\01_38_05.tif',\n",
       " 'S:/micro/nro/fx2482/lem/20240820_OSS_IMARE-130719\\\\01_39_02.tif',\n",
       " 'S:/micro/nro/fx2482/lem/20240820_OSS_IMARE-130719\\\\01_39_03.tif',\n",
       " 'S:/micro/nro/fx2482/lem/20240820_OSS_IMARE-130719\\\\01_39_04.tif',\n",
       " 'S:/micro/nro/fx2482/lem/20240820_OSS_IMARE-130719\\\\01_39_05.tif',\n",
       " 'S:/micro/nro/fx2482/lem/20240820_OSS_IMARE-130719\\\\01_40_02.tif',\n",
       " 'S:/micro/nro/fx2482/lem/20240820_OSS_IMARE-130719\\\\01_40_03.tif',\n",
       " 'S:/micro/nro/fx2482/lem/20240820_OSS_IMARE-130719\\\\01_40_04.tif',\n",
       " 'S:/micro/nro/fx2482/lem/20240820_OSS_IMARE-130719\\\\01_40_05.tif',\n",
       " 'S:/micro/nro/fx2482/lem/20240820_OSS_IMARE-130719\\\\01_41_02.tif',\n",
       " 'S:/micro/nro/fx2482/lem/20240820_OSS_IMARE-130719\\\\01_41_03.tif',\n",
       " 'S:/micro/nro/fx2482/lem/20240820_OSS_IMARE-130719\\\\01_41_04.tif',\n",
       " 'S:/micro/nro/fx2482/lem/20240820_OSS_IMARE-130719\\\\01_41_05.tif',\n",
       " 'S:/micro/nro/fx2482/lem/20240820_OSS_IMARE-130719\\\\01_42_02.tif',\n",
       " 'S:/micro/nro/fx2482/lem/20240820_OSS_IMARE-130719\\\\01_42_03.tif',\n",
       " 'S:/micro/nro/fx2482/lem/20240820_OSS_IMARE-130719\\\\01_42_04.tif',\n",
       " 'S:/micro/nro/fx2482/lem/20240820_OSS_IMARE-130719\\\\01_42_05.tif',\n",
       " 'S:/micro/nro/fx2482/lem/20240820_OSS_IMARE-130719\\\\01_43_02.tif',\n",
       " 'S:/micro/nro/fx2482/lem/20240820_OSS_IMARE-130719\\\\01_43_03.tif',\n",
       " 'S:/micro/nro/fx2482/lem/20240820_OSS_IMARE-130719\\\\01_43_04.tif',\n",
       " 'S:/micro/nro/fx2482/lem/20240820_OSS_IMARE-130719\\\\01_43_05.tif',\n",
       " 'S:/micro/nro/fx2482/lem/20240820_OSS_IMARE-130719\\\\01_44_02.tif',\n",
       " 'S:/micro/nro/fx2482/lem/20240820_OSS_IMARE-130719\\\\01_44_03.tif',\n",
       " 'S:/micro/nro/fx2482/lem/20240820_OSS_IMARE-130719\\\\01_44_04.tif',\n",
       " 'S:/micro/nro/fx2482/lem/20240820_OSS_IMARE-130719\\\\01_44_05.tif',\n",
       " 'S:/micro/nro/fx2482/lem/20240820_OSS_IMARE-130719\\\\01_45_02.tif',\n",
       " 'S:/micro/nro/fx2482/lem/20240820_OSS_IMARE-130719\\\\01_45_03.tif',\n",
       " 'S:/micro/nro/fx2482/lem/20240820_OSS_IMARE-130719\\\\01_45_04.tif',\n",
       " 'S:/micro/nro/fx2482/lem/20240820_OSS_IMARE-130719\\\\01_45_05.tif']"
      ]
     },
     "execution_count": 3,
     "metadata": {},
     "output_type": "execute_result"
    }
   ],
   "source": [
    "#fnames = glob.glob('data/val/images/*.tif')\n",
    "# 01_38_02 and 02_04_03 are the interesting ones\n",
    "fnames = glob.glob('new_data/test/images/*.tif')\n",
    "#fnames = glob.glob('S:/micro/nro/fx2482/lem/20240820_OSS_IMARE-130719/*.tif')\n",
    "fnames"
   ]
  },
  {
   "cell_type": "code",
   "execution_count": 4,
   "metadata": {},
   "outputs": [
    {
     "name": "stdout",
     "output_type": "stream",
     "text": [
      "S:/micro/nro/fx2482/lem/20240820_OSS_IMARE-130719\\01_01_03.tif\n",
      "\n",
      "0: 1600x1600 70 1_stage_IBs, 19 2_stage_IIs, 47 4_stage_late_IIIs, 33.3ms\n",
      "Speed: 301.5ms preprocess, 33.3ms inference, 0.0ms postprocess per image at shape (1, 3, 1600, 1600)\n"
     ]
    },
    {
     "data": {
      "text/plain": [
       "<Shapes layer 'T3' at 0x19936c3f310>"
      ]
     },
     "execution_count": 4,
     "metadata": {},
     "output_type": "execute_result"
    }
   ],
   "source": [
    "fname = fnames[1]\n",
    "print(fname)\n",
    "\n",
    "model = YOLO(\"runs/detect/train36/weights/best.pt\")  # load a custom model\n",
    "\n",
    "results = model(ski.io.imread(fname))\n",
    "results[0].boxes[0]\n",
    "\n",
    "height, width = ski.io.imread(fname).shape[:2]\n",
    "confs = []\n",
    "\n",
    "rtn_boxes = []\n",
    "classes = []\n",
    "for box in results[0].boxes:\n",
    "    xyxy = np.reshape(box.xyxy[0].cpu().numpy(), [-1,2])[:,::-1]\n",
    "    rtn_boxes.append(xyxy)\n",
    "    classes.append(box.cls.cpu().numpy()[0])\n",
    "    confs.append(box.conf[0].cpu().numpy())\n",
    "\n",
    "img = ski.io.imread(fname)\n",
    "\n",
    "classes = np.array(classes)\n",
    "rtn_boxes = np.array(rtn_boxes)\n",
    "confs = np.array(confs)\n",
    "\n",
    "rtn_boxes = rtn_boxes[confs > 0.05]\n",
    "classes = classes[confs > 0.05]\n",
    "\n",
    "viewer = napari.Viewer()\n",
    "\n",
    "viewer.add_image(img, channel_axis=-1, colormap=['red', 'green', 'blue'])\n",
    "\n",
    "viewer.add_shapes(rtn_boxes[classes==0], shape_type='rectangle', edge_color='red', face_color='red', opacity=0.5, name='T0')\n",
    "viewer.add_shapes(rtn_boxes[classes==1], shape_type='rectangle', edge_color='blue', face_color='blue', opacity=0.5, name='T1')\n",
    "viewer.add_shapes(rtn_boxes[classes==2], shape_type='rectangle', edge_color='green', face_color='green', opacity=0.5, name='T2')\n",
    "viewer.add_shapes(rtn_boxes[classes==3], shape_type='rectangle', edge_color='yellow', face_color='yellow', opacity=0.5, name='T3')"
   ]
  },
  {
   "cell_type": "code",
   "execution_count": 64,
   "metadata": {},
   "outputs": [
    {
     "data": {
      "text/plain": [
       "<Shapes layer 'T3' at 0x25d405f4d00>"
      ]
     },
     "execution_count": 64,
     "metadata": {},
     "output_type": "execute_result"
    }
   ],
   "source": []
  },
  {
   "cell_type": "code",
   "execution_count": null,
   "metadata": {},
   "outputs": [],
   "source": []
  },
  {
   "cell_type": "markdown",
   "metadata": {},
   "source": [
    "# Manually fix and export"
   ]
  },
  {
   "cell_type": "code",
   "execution_count": 24,
   "metadata": {},
   "outputs": [],
   "source": [
    "layer_names = [layer.name for layer in viewer.layers[3:]]\n",
    "for layer in layer_names:\n",
    "    rects = viewer.layers[layer].data\n",
    "    np.save(fname.replace('.tif', f'_{layer}.npy'), rects)"
   ]
  },
  {
   "cell_type": "code",
   "execution_count": null,
   "metadata": {},
   "outputs": [],
   "source": []
  },
  {
   "cell_type": "code",
   "execution_count": null,
   "metadata": {},
   "outputs": [],
   "source": []
  },
  {
   "cell_type": "code",
   "execution_count": null,
   "metadata": {},
   "outputs": [],
   "source": []
  }
 ],
 "metadata": {
  "kernelspec": {
   "display_name": "stream",
   "language": "python",
   "name": "python3"
  },
  "language_info": {
   "codemirror_mode": {
    "name": "ipython",
    "version": 3
   },
   "file_extension": ".py",
   "mimetype": "text/x-python",
   "name": "python",
   "nbconvert_exporter": "python",
   "pygments_lexer": "ipython3",
   "version": "3.10.14"
  }
 },
 "nbformat": 4,
 "nbformat_minor": 2
}
