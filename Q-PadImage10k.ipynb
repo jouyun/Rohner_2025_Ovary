{
 "cells": [
  {
   "cell_type": "code",
   "execution_count": 3,
   "metadata": {},
   "outputs": [],
   "source": [
    "import skimage as ski\n",
    "import napari\n",
    "import numpy as np\n",
    "import glob"
   ]
  },
  {
   "cell_type": "code",
   "execution_count": 16,
   "metadata": {},
   "outputs": [],
   "source": [
    "fnames = glob.glob('new_data/test/images/*.tif')"
   ]
  },
  {
   "cell_type": "code",
   "execution_count": 17,
   "metadata": {},
   "outputs": [
    {
     "data": {
      "text/plain": [
       "['new_data/test/images\\\\01_02_02.tif',\n",
       " 'new_data/test/images\\\\01_10_04.tif',\n",
       " 'new_data/test/images\\\\01_19_03.tif',\n",
       " 'new_data/test/images\\\\01_19_04.tif',\n",
       " 'new_data/test/images\\\\01_19_05.tif',\n",
       " 'new_data/test/images\\\\01_20_04.tif',\n",
       " 'new_data/test/images\\\\01_38_02.tif',\n",
       " 'new_data/test/images\\\\01_45_03.tif',\n",
       " 'new_data/test/images\\\\01_46_02.tif',\n",
       " 'new_data/test/images\\\\02_02_02.tif',\n",
       " 'new_data/test/images\\\\02_04_03.tif',\n",
       " 'new_data/test/images\\\\02_22_02.tif']"
      ]
     },
     "execution_count": 17,
     "metadata": {},
     "output_type": "execute_result"
    }
   ],
   "source": [
    "fnames"
   ]
  },
  {
   "cell_type": "code",
   "execution_count": 18,
   "metadata": {},
   "outputs": [],
   "source": [
    "fname = fnames[0]\n",
    "img = ski.io.imread(fname)"
   ]
  },
  {
   "cell_type": "code",
   "execution_count": 19,
   "metadata": {},
   "outputs": [
    {
     "data": {
      "text/plain": [
       "(10000, 10000, 3)"
      ]
     },
     "execution_count": 19,
     "metadata": {},
     "output_type": "execute_result"
    }
   ],
   "source": [
    "img.shape"
   ]
  },
  {
   "cell_type": "code",
   "execution_count": 20,
   "metadata": {},
   "outputs": [],
   "source": [
    "window = 10000\n"
   ]
  },
  {
   "cell_type": "code",
   "execution_count": 21,
   "metadata": {},
   "outputs": [],
   "source": [
    "for fname in fnames:\n",
    "    img = ski.io.imread(fname)\n",
    "    height, width = img.shape[0:2]\n",
    "    new_img = np.pad(img, ((0, window-height), (0, window-width), (0,0)), mode='constant', constant_values=255)\n",
    "    ski.io.imsave(fname, new_img)"
   ]
  },
  {
   "cell_type": "code",
   "execution_count": null,
   "metadata": {},
   "outputs": [],
   "source": []
  }
 ],
 "metadata": {
  "kernelspec": {
   "display_name": "stream",
   "language": "python",
   "name": "python3"
  },
  "language_info": {
   "codemirror_mode": {
    "name": "ipython",
    "version": 3
   },
   "file_extension": ".py",
   "mimetype": "text/x-python",
   "name": "python",
   "nbconvert_exporter": "python",
   "pygments_lexer": "ipython3",
   "version": "3.10.14"
  }
 },
 "nbformat": 4,
 "nbformat_minor": 2
}
