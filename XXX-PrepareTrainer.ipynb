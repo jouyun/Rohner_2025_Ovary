{
 "cells": [
  {
   "cell_type": "code",
   "execution_count": 2,
   "metadata": {},
   "outputs": [],
   "source": [
    "import napari\n",
    "viewer = napari.Viewer()"
   ]
  },
  {
   "cell_type": "code",
   "execution_count": 3,
   "metadata": {},
   "outputs": [],
   "source": [
    "import numpy as np\n",
    "import tifffile\n",
    "import glob\n",
    "import skimage.util as util\n",
    "import cv2\n",
    "import dask\n",
    "import pandas as pd\n",
    "\n",
    "import plotly.express as px\n",
    "import skimage as ski\n",
    "import glob\n",
    "import plotly.graph_objects as go"
   ]
  },
  {
   "cell_type": "code",
   "execution_count": 12,
   "metadata": {},
   "outputs": [],
   "source": [
    "fnames = glob.glob('new_data/train/images/*.tif')"
   ]
  },
  {
   "cell_type": "code",
   "execution_count": 13,
   "metadata": {},
   "outputs": [
    {
     "data": {
      "text/plain": [
       "['new_data/train/images\\\\01_02_02.tif',\n",
       " 'new_data/train/images\\\\01_10_07.tif',\n",
       " 'new_data/train/images\\\\01_19_03.tif',\n",
       " 'new_data/train/images\\\\01_38_02.tif',\n",
       " 'new_data/train/images\\\\01_45_03.tif',\n",
       " 'new_data/train/images\\\\02_04_03.tif',\n",
       " 'new_data/train/images\\\\02_15_06.tif']"
      ]
     },
     "execution_count": 13,
     "metadata": {},
     "output_type": "execute_result"
    }
   ],
   "source": [
    "fnames"
   ]
  },
  {
   "cell_type": "markdown",
   "metadata": {},
   "source": [
    "# Convert .npy to .txt"
   ]
  },
  {
   "cell_type": "code",
   "execution_count": 14,
   "metadata": {},
   "outputs": [],
   "source": [
    "# Loop over all files\n",
    "for fname in fnames:\n",
    "    output_img_path = 'new_data/train/images/' + fname.split('\\\\')[-1]\n",
    "    output_labels_path = 'new_data/train/labels/' + fname.split('\\\\')[-1].replace('.tif', '.txt')\n",
    "\n",
    "    img = ski.io.imread(fname.replace('\\\\','/'))\n",
    "    height, width = img.shape[0:2]\n",
    "\n",
    "    with open(output_labels_path, 'w') as f:\n",
    "        rect_fnames = glob.glob(fname.replace('.tif', '*.npy'))\n",
    "        for rect_fname in rect_fnames:\n",
    "            assigned_class = rect_fname.split('\\\\')[-1].split('T')[1][0]\n",
    "            rects = np.load(rect_fname, allow_pickle=True)\n",
    "            \n",
    "            for rect in rects:\n",
    "                min_row, min_col = np.min(rect, axis=0)\n",
    "                max_row, max_col = np.max(rect, axis=0)\n",
    "\n",
    "                # # Calculate YOLO format values\n",
    "                x_center = (min_col + max_col) / (2 * width)\n",
    "                y_center = (min_row + max_row) / (2 * height)\n",
    "                box_width = (max_col - min_col) / width\n",
    "                box_height = (max_row - min_row) / height\n",
    "                \n",
    "                # Write to file (class is always 0 as mentioned)\n",
    "                f.write(f\"{assigned_class} {x_center} {y_center} {box_width} {box_height}\\n\")\n",
    "        cv2.imwrite(output_img_path, cv2.cvtColor(img, cv2.COLOR_RGB2BGR))\n",
    "        f.close()"
   ]
  },
  {
   "cell_type": "markdown",
   "metadata": {},
   "source": [
    "# Other Stuff"
   ]
  },
  {
   "cell_type": "code",
   "execution_count": 10,
   "metadata": {},
   "outputs": [],
   "source": [
    "\n",
    "test_names = glob.glob('data/test/*.tif')\n",
    "for test_name in test_names:\n",
    "    img = ski.io.imread(test_name)\n",
    "    cv2.imwrite(test_name+'f', cv2.cvtColor(img, cv2.COLOR_RGB2BGR))\n"
   ]
  },
  {
   "cell_type": "code",
   "execution_count": 51,
   "metadata": {},
   "outputs": [],
   "source": [
    "df = pd.read_csv('Cells.csv')\n",
    "df['short_fname'] = df['fname'].str.split('\\\\').str[1]"
   ]
  },
  {
   "cell_type": "code",
   "execution_count": 53,
   "metadata": {},
   "outputs": [],
   "source": [
    "fnames = glob.glob('1_stage_IB/*.png')\n",
    "fnames.extend(glob.glob('2_stage_II/*.png'))\n",
    "fnames.extend(glob.glob('3_stage_mid_III/*.png'))\n",
    "fnames.extend(glob.glob('4_stage_late_III/*.png'))\n",
    "#fnames.extend(glob.glob('junk/*.png'))"
   ]
  },
  {
   "cell_type": "code",
   "execution_count": 55,
   "metadata": {},
   "outputs": [],
   "source": [
    "for fname in fnames:\n",
    "    assigned_class = fname.split('/')[0]\n",
    "    orig_fname = fname.split('/')[1].split('.')[0]+'.tif'\n",
    "    orig_class = fname.split('/')[1].split('.')[1][0]\n",
    "    orig_label = int(fname.split('/')[1].split('.')[1].split('_')[1])\n",
    "    df.loc[(df['short_fname'] == orig_fname) & (df['label'] == orig_label) & (df['type'] == orig_class), 'assigned'] = assigned_class\n",
    "df = df.dropna()"
   ]
  },
  {
   "cell_type": "code",
   "execution_count": 57,
   "metadata": {},
   "outputs": [],
   "source": [
    "fnames = df['fname'].unique()"
   ]
  },
  {
   "cell_type": "code",
   "execution_count": 77,
   "metadata": {},
   "outputs": [],
   "source": [
    "# Loop over all files\n",
    "for fname in fnames:\n",
    "    output_img_path = 'prelim_data/train/images/' + fname.split('\\\\')[-1]\n",
    "    output_labels_path = 'prelim_data/train/labels/' + fname.split('\\\\')[-1].replace('.tif', '.txt')\n",
    "    sub_df = df[df['fname'] == fname]\n",
    "    img = ski.io.imread(fname.replace('\\\\','/'))\n",
    "    width, height = img.shape[0:2]\n",
    "\n",
    "    with open(output_labels_path, 'w') as f:\n",
    "        # 1_stage_IB\n",
    "        small_df = sub_df[sub_df['assigned'] == '1_stage_IB']\n",
    "        for idx, row in small_df.iterrows():\n",
    "            min_col, min_row, max_col, max_row = row['bbox-0'], row['bbox-1'], row['bbox-2'], row['bbox-3']\n",
    "\n",
    "            # Calculate YOLO format values\n",
    "            x_center = (min_col + max_col) / (2 * width)\n",
    "            y_center = (min_row + max_row) / (2 * height)\n",
    "            box_width = (max_col - min_col) / width\n",
    "            box_height = (max_row - min_row) / height\n",
    "            \n",
    "            # Write to file (class is always 0 as mentioned)\n",
    "            f.write(f\"0 {x_center} {y_center} {box_width} {box_height}\\n\")\n",
    "        \n",
    "        # 2_stage_II\n",
    "        small_df = sub_df[sub_df['assigned'] == '2_stage_II']\n",
    "        for idx, row in small_df.iterrows():\n",
    "            min_col, min_row, max_col, max_row = row['bbox-0'], row['bbox-1'], row['bbox-2'], row['bbox-3']\n",
    "\n",
    "            # Calculate YOLO format values\n",
    "            x_center = (min_col + max_col) / (2 * width)\n",
    "            y_center = (min_row + max_row) / (2 * height)\n",
    "            box_width = (max_col - min_col) / width\n",
    "            box_height = (max_row - min_row) / height\n",
    "            \n",
    "            # Write to file (class is always 0 as mentioned)\n",
    "            f.write(f\"1 {x_center} {y_center} {box_width} {box_height}\\n\")\n",
    "\n",
    "        # 3_stage_mid_III\n",
    "        small_df = sub_df[sub_df['assigned'] == '3_stage_mid_III']\n",
    "        for idx, row in small_df.iterrows():\n",
    "            min_col, min_row, max_col, max_row = row['bbox-0'], row['bbox-1'], row['bbox-2'], row['bbox-3']\n",
    "\n",
    "            # Calculate YOLO format values\n",
    "            x_center = (min_col + max_col) / (2 * width)\n",
    "            y_center = (min_row + max_row) / (2 * height)\n",
    "            box_width = (max_col - min_col) / width\n",
    "            box_height = (max_row - min_row) / height\n",
    "            \n",
    "            # Write to file (class is always 0 as mentioned)\n",
    "            f.write(f\"2 {x_center} {y_center} {box_width} {box_height}\\n\")\n",
    "\n",
    "        # 4_stage_late_III\n",
    "        small_df = sub_df[sub_df['assigned'] == '4_stage_late_III']\n",
    "        for idx, row in small_df.iterrows():\n",
    "            min_col, min_row, max_col, max_row = row['bbox-0'], row['bbox-1'], row['bbox-2'], row['bbox-3']\n",
    "\n",
    "            # Calculate YOLO format values\n",
    "            x_center = (min_col + max_col) / (2 * width)\n",
    "            y_center = (min_row + max_row) / (2 * height)\n",
    "            box_width = (max_col - min_col) / width\n",
    "            box_height = (max_row - min_row) / height\n",
    "            \n",
    "            # Write to file (class is always 0 as mentioned)\n",
    "            f.write(f\"3 {x_center} {y_center} {box_width} {box_height}\\n\")\n",
    "\n",
    "        f.close()\n",
    "    cv2.imwrite(output_img_path, cv2.cvtColor(img, cv2.COLOR_RGB2BGR))\n"
   ]
  },
  {
   "cell_type": "code",
   "execution_count": null,
   "metadata": {},
   "outputs": [],
   "source": []
  },
  {
   "cell_type": "markdown",
   "metadata": {},
   "source": [
    "# Check Results in Napari"
   ]
  },
  {
   "cell_type": "code",
   "execution_count": 78,
   "metadata": {},
   "outputs": [],
   "source": [
    "fnames = glob.glob('prelim_data/train/images/*.tif')"
   ]
  },
  {
   "cell_type": "code",
   "execution_count": 198,
   "metadata": {},
   "outputs": [
    {
     "data": {
      "text/plain": [
       "'data/train/images/02_21_03.tif'"
      ]
     },
     "execution_count": 198,
     "metadata": {},
     "output_type": "execute_result"
    }
   ],
   "source": [
    "fname = fnames[6]\n",
    "fname"
   ]
  },
  {
   "cell_type": "code",
   "execution_count": 199,
   "metadata": {},
   "outputs": [],
   "source": [
    "img = ski.io.imread(fname)\n",
    "labels = np.loadtxt(fname.replace('images', 'labels').replace('.tif', '.txt'))"
   ]
  },
  {
   "cell_type": "code",
   "execution_count": 200,
   "metadata": {},
   "outputs": [],
   "source": [
    "width, height = img.shape[0:2]"
   ]
  },
  {
   "cell_type": "code",
   "execution_count": 201,
   "metadata": {},
   "outputs": [],
   "source": [
    "labels[:,1] = (labels[:,1] * width).astype(int)\n",
    "labels[:,2] = (labels[:,2] * height).astype(int)\n",
    "labels[:,3] = (labels[:,3] * width/2).astype(int)\n",
    "labels[:,4] = (labels[:,4] * height/2).astype(int)"
   ]
  },
  {
   "cell_type": "code",
   "execution_count": 202,
   "metadata": {},
   "outputs": [],
   "source": [
    "labels[:,1] = labels[:,1] - labels[:,3]\n",
    "labels[:,2] = labels[:,2] - labels[:,4]\n",
    "labels[:,3] = labels[:,1] + 2*labels[:,3]\n",
    "labels[:,4] = labels[:,2] + 2*labels[:,4]"
   ]
  },
  {
   "cell_type": "code",
   "execution_count": 203,
   "metadata": {},
   "outputs": [],
   "source": [
    "lst = []\n",
    "for label in labels[labels[:,0]==0]:\n",
    "    x1, y1, x2, y2 = label[1:]\n",
    "    lst.append(np.array([[x1, y1], [x2, y1], [x2, y2], [x1, y2]]))\n",
    "t0_rects = np.array(lst)\n",
    "\n",
    "lst = []\n",
    "for label in labels[labels[:,0]==1]:\n",
    "    x1, y1, x2, y2 = label[1:]\n",
    "    lst.append(np.array([[x1, y1], [x2, y1], [x2, y2], [x1, y2]]))\n",
    "t1_rects = np.array(lst)\n",
    "\n",
    "lst = []\n",
    "for label in labels[labels[:,0]==2]:\n",
    "    x1, y1, x2, y2 = label[1:]\n",
    "    lst.append(np.array([[x1, y1], [x2, y1], [x2, y2], [x1, y2]]))\n",
    "t2_rects = np.array(lst)\n",
    "\n",
    "lst = []\n",
    "for label in labels[labels[:,0]==3]:\n",
    "    x1, y1, x2, y2 = label[1:]\n",
    "    lst.append(np.array([[x1, y1], [x2, y1], [x2, y2], [x1, y2]]))\n",
    "t3_rects = np.array(lst)\n",
    "\n",
    "lst = []\n",
    "for label in labels[labels[:,0]==4]:\n",
    "    x1, y1, x2, y2 = label[1:]\n",
    "    lst.append(np.array([[x1, y1], [x2, y1], [x2, y2], [x1, y2]]))\n",
    "t4_rects = np.array(lst)"
   ]
  },
  {
   "cell_type": "code",
   "execution_count": 204,
   "metadata": {},
   "outputs": [],
   "source": [
    "viewer.add_image(img)\n",
    "if len(t0_rects)>0:\n",
    "    viewer.add_shapes(t0_rects, shape_type='rectangle', edge_color='red', face_color='red', opacity=0.6)\n",
    "if len(t1_rects)>0:\n",
    "    viewer.add_shapes(t1_rects, shape_type='rectangle', edge_color='green', face_color='green', opacity=0.6)\n",
    "if len(t2_rects)>0:\n",
    "    viewer.add_shapes(t2_rects, shape_type='rectangle', edge_color='blue', face_color='blue', opacity=0.6)\n",
    "if len(t3_rects)>0:\n",
    "    viewer.add_shapes(t3_rects, shape_type='rectangle', edge_color='yellow', face_color='yellow', opacity=0.6)\n",
    "if len(t4_rects)>0:\n",
    "    viewer.add_shapes(t4_rects, shape_type='rectangle', edge_color='purple', face_color='purple', opacity=0.6)"
   ]
  },
  {
   "cell_type": "code",
   "execution_count": 144,
   "metadata": {},
   "outputs": [
    {
     "data": {
      "text/plain": [
       "'data/train/images/01_38_02.tif'"
      ]
     },
     "execution_count": 144,
     "metadata": {},
     "output_type": "execute_result"
    }
   ],
   "source": [
    "fname"
   ]
  },
  {
   "cell_type": "code",
   "execution_count": 205,
   "metadata": {},
   "outputs": [],
   "source": [
    "layer_names = [layer.name for layer in viewer.layers[1:]]"
   ]
  },
  {
   "cell_type": "code",
   "execution_count": 206,
   "metadata": {},
   "outputs": [
    {
     "data": {
      "text/plain": [
       "['t0_rects', 't1_rects', 't2_rects', 't3_rects']"
      ]
     },
     "execution_count": 206,
     "metadata": {},
     "output_type": "execute_result"
    }
   ],
   "source": [
    "layer_names"
   ]
  },
  {
   "cell_type": "code",
   "execution_count": 207,
   "metadata": {},
   "outputs": [],
   "source": [
    "for layer in layer_names:\n",
    "    rects = viewer.layers[layer].data\n",
    "    np.save(fname.replace('.tif', f'_{layer}.npy'), rects)"
   ]
  },
  {
   "cell_type": "code",
   "execution_count": null,
   "metadata": {},
   "outputs": [],
   "source": []
  },
  {
   "cell_type": "code",
   "execution_count": null,
   "metadata": {},
   "outputs": [],
   "source": []
  }
 ],
 "metadata": {
  "kernelspec": {
   "display_name": "stream",
   "language": "python",
   "name": "python3"
  },
  "language_info": {
   "codemirror_mode": {
    "name": "ipython",
    "version": 3
   },
   "file_extension": ".py",
   "mimetype": "text/x-python",
   "name": "python",
   "nbconvert_exporter": "python",
   "pygments_lexer": "ipython3",
   "version": "3.10.14"
  }
 },
 "nbformat": 4,
 "nbformat_minor": 2
}
